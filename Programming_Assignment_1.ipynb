{
  "nbformat": 4,
  "nbformat_minor": 0,
  "metadata": {
    "colab": {
      "provenance": [],
      "authorship_tag": "ABX9TyN+mB1NkDHGQ6qBexY3/6co",
      "include_colab_link": true
    },
    "kernelspec": {
      "name": "python3",
      "display_name": "Python 3"
    },
    "language_info": {
      "name": "python"
    }
  },
  "cells": [
    {
      "cell_type": "markdown",
      "metadata": {
        "id": "view-in-github",
        "colab_type": "text"
      },
      "source": [
        "<a href=\"https://colab.research.google.com/github/Gokulakrishnan1911/Ineuron/blob/main/Programming_Assignment_1.ipynb\" target=\"_parent\"><img src=\"https://colab.research.google.com/assets/colab-badge.svg\" alt=\"Open In Colab\"/></a>"
      ]
    },
    {
      "cell_type": "markdown",
      "source": [
        "1. Write a Python program to print \"Hello Python\"?"
      ],
      "metadata": {
        "id": "JoCgUQasNGNC"
      }
    },
    {
      "cell_type": "code",
      "source": [
        "print(\"Hello Python\")"
      ],
      "metadata": {
        "colab": {
          "base_uri": "https://localhost:8080/"
        },
        "id": "GZOGwy4bNKn5",
        "outputId": "c6144946-4097-479c-b6f0-a85b623c01cc"
      },
      "execution_count": 1,
      "outputs": [
        {
          "output_type": "stream",
          "name": "stdout",
          "text": [
            "Hello Python\n"
          ]
        }
      ]
    },
    {
      "cell_type": "markdown",
      "source": [
        "2.Write a Python program to do arithmetical operations addition and division.?"
      ],
      "metadata": {
        "id": "z4rp-XMqNXrg"
      }
    },
    {
      "cell_type": "code",
      "source": [
        "a=int(input())\n",
        "b=int(input())\n",
        "\n",
        "#Addition of two Number\n",
        "add=a+b\n",
        "print('Sum of two numbers:',add)\n",
        "\n",
        "#Division of two numbers\n",
        "div=a/b\n",
        "print('Division of two numbers:',div)\n"
      ],
      "metadata": {
        "colab": {
          "base_uri": "https://localhost:8080/"
        },
        "id": "imT674UTNZNo",
        "outputId": "0beb1ee3-0513-48a9-c665-0e7d3d78582f"
      },
      "execution_count": 2,
      "outputs": [
        {
          "output_type": "stream",
          "name": "stdout",
          "text": [
            "9\n",
            "9\n",
            "Sum of two numbers: 18\n",
            "Division of two numbers: 1.0\n"
          ]
        }
      ]
    },
    {
      "cell_type": "markdown",
      "source": [
        "3. Write a Python program to find the area of a triangle?"
      ],
      "metadata": {
        "id": "-NlsqJlZN43j"
      }
    },
    {
      "cell_type": "code",
      "source": [
        "height=int(input())\n",
        "base=int(input())\n",
        "\n",
        "#To find the area of triangle\n",
        "area=height*base/2\n",
        "print(\"Area of triangle:\",area)"
      ],
      "metadata": {
        "colab": {
          "base_uri": "https://localhost:8080/"
        },
        "id": "1REZGVb8N6M0",
        "outputId": "c5397cef-698a-4bd7-97a9-6e2a47eec27f"
      },
      "execution_count": 3,
      "outputs": [
        {
          "output_type": "stream",
          "name": "stdout",
          "text": [
            "155\n",
            "80\n",
            "Area of triangle: 6200.0\n"
          ]
        }
      ]
    },
    {
      "cell_type": "markdown",
      "source": [
        "4. Write a Python program to swap two variables?"
      ],
      "metadata": {
        "id": "7rDbjqnUOYDH"
      }
    },
    {
      "cell_type": "code",
      "source": [
        "a=int(input())\n",
        "b=int(input())\n",
        "a,b=b,a\n",
        "print('a: ',a)\n",
        "print('b: ',b)"
      ],
      "metadata": {
        "colab": {
          "base_uri": "https://localhost:8080/"
        },
        "id": "PKa8Ic5HOZHi",
        "outputId": "9d5f2c4f-9a7f-41ee-d586-50d9c4544f48"
      },
      "execution_count": 4,
      "outputs": [
        {
          "output_type": "stream",
          "name": "stdout",
          "text": [
            "6\n",
            "8\n",
            "a:  8\n",
            "b:  6\n"
          ]
        }
      ]
    },
    {
      "cell_type": "markdown",
      "source": [
        "5. Write a Python program to generate a random number?"
      ],
      "metadata": {
        "id": "-5AiQtNMOoLi"
      }
    },
    {
      "cell_type": "code",
      "source": [
        "import random as r\n",
        "print(r.random()) #print the values between 0 to 1\n",
        "print(r.randint(1,1000))"
      ],
      "metadata": {
        "colab": {
          "base_uri": "https://localhost:8080/"
        },
        "id": "xK03U4JcOslt",
        "outputId": "8b755d91-0e4f-4a78-b5e9-3cfae6d079bf"
      },
      "execution_count": 6,
      "outputs": [
        {
          "output_type": "stream",
          "name": "stdout",
          "text": [
            "0.41026166801680064\n",
            "8\n"
          ]
        }
      ]
    }
  ]
}